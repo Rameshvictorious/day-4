{
 "cells": [
  {
   "cell_type": "code",
   "execution_count": null,
   "id": "aec99fe4",
   "metadata": {},
   "outputs": [],
   "source": [
    "Introduction to numbers : "
   ]
  },
  {
   "cell_type": "code",
   "execution_count": null,
   "id": "b9ad7d3e",
   "metadata": {},
   "outputs": [],
   "source": [
    "Integers => 1,2,3,4...."
   ]
  },
  {
   "cell_type": "code",
   "execution_count": null,
   "id": "21870736",
   "metadata": {},
   "outputs": [],
   "source": [
    "float => 0.1,0.3.2.9,3.4,..."
   ]
  },
  {
   "cell_type": "code",
   "execution_count": 6,
   "id": "589c722b",
   "metadata": {},
   "outputs": [],
   "source": [
    "number = 2"
   ]
  },
  {
   "cell_type": "code",
   "execution_count": 7,
   "id": "c7937226",
   "metadata": {},
   "outputs": [
    {
     "name": "stdout",
     "output_type": "stream",
     "text": [
      "2\n"
     ]
    }
   ],
   "source": [
    "print(number)"
   ]
  },
  {
   "cell_type": "code",
   "execution_count": 8,
   "id": "05c9af1a",
   "metadata": {},
   "outputs": [
    {
     "data": {
      "text/plain": [
       "int"
      ]
     },
     "execution_count": 8,
     "metadata": {},
     "output_type": "execute_result"
    }
   ],
   "source": [
    "type(number)"
   ]
  },
  {
   "cell_type": "code",
   "execution_count": 9,
   "id": "872360d7",
   "metadata": {},
   "outputs": [],
   "source": [
    "n=0.3"
   ]
  },
  {
   "cell_type": "code",
   "execution_count": 10,
   "id": "2d57396a",
   "metadata": {},
   "outputs": [
    {
     "name": "stdout",
     "output_type": "stream",
     "text": [
      "0.3\n"
     ]
    }
   ],
   "source": [
    "print(n)"
   ]
  },
  {
   "cell_type": "code",
   "execution_count": 11,
   "id": "bbd35b5a",
   "metadata": {},
   "outputs": [
    {
     "data": {
      "text/plain": [
       "float"
      ]
     },
     "execution_count": 11,
     "metadata": {},
     "output_type": "execute_result"
    }
   ],
   "source": [
    "type(n)"
   ]
  },
  {
   "cell_type": "code",
   "execution_count": null,
   "id": "87505905",
   "metadata": {},
   "outputs": [],
   "source": [
    "Introdection to list datatype :"
   ]
  },
  {
   "cell_type": "code",
   "execution_count": null,
   "id": "2a244fbd",
   "metadata": {},
   "outputs": [],
   "source": [
    "definition : A list is a collection of items declared in a particular order .\n",
    "classification : it is classified as a mutuable datatype\n",
    "    how to define /declare the list datatype  = []"
   ]
  },
  {
   "cell_type": "code",
   "execution_count": 79,
   "id": "225b9747",
   "metadata": {},
   "outputs": [],
   "source": [
    "students = [\"ramsh\",'hari' ,'srinu','yeshwanth']"
   ]
  },
  {
   "cell_type": "code",
   "execution_count": 61,
   "id": "754590c7",
   "metadata": {},
   "outputs": [
    {
     "name": "stdout",
     "output_type": "stream",
     "text": [
      "['ramsh', 'hari', 'srinu', 'yeshwanth']\n"
     ]
    }
   ],
   "source": [
    "print(students)"
   ]
  },
  {
   "cell_type": "code",
   "execution_count": null,
   "id": "9004e9dc",
   "metadata": {},
   "outputs": [],
   "source": [
    "understanding the concept of indexing :\n",
    "    1,2,3,4,5,........n"
   ]
  },
  {
   "cell_type": "code",
   "execution_count": null,
   "id": "c65cc909",
   "metadata": {},
   "outputs": [],
   "source": [
    "# req :i want to access name in the output "
   ]
  },
  {
   "cell_type": "code",
   "execution_count": 18,
   "id": "a55a6bfc",
   "metadata": {},
   "outputs": [
    {
     "name": "stdout",
     "output_type": "stream",
     "text": [
      "hari\n"
     ]
    }
   ],
   "source": [
    "print(students[1])"
   ]
  },
  {
   "cell_type": "code",
   "execution_count": 19,
   "id": "85443155",
   "metadata": {},
   "outputs": [
    {
     "name": "stdout",
     "output_type": "stream",
     "text": [
      "Hari\n"
     ]
    }
   ],
   "source": [
    "print(students[1].title())"
   ]
  },
  {
   "cell_type": "code",
   "execution_count": 21,
   "id": "a47af268",
   "metadata": {},
   "outputs": [],
   "source": [
    "1.How to add new elements to the list \n",
    "\n",
    "2.How to modify the elements in the list\n",
    "\n",
    "3.How to delete the elements in the list"
   ]
  },
  {
   "cell_type": "code",
   "execution_count": 62,
   "id": "d4e92c8b",
   "metadata": {},
   "outputs": [],
   "source": [
    "#Adding ramesh to the list...\n",
    "students.append(\"pavan\")"
   ]
  },
  {
   "cell_type": "markdown",
   "id": "99bb01d1",
   "metadata": {},
   "source": []
  },
  {
   "cell_type": "code",
   "execution_count": 63,
   "id": "a55945a3",
   "metadata": {},
   "outputs": [
    {
     "name": "stdout",
     "output_type": "stream",
     "text": [
      "['ramsh', 'hari', 'srinu', 'yeshwanth', 'pavan']\n"
     ]
    }
   ],
   "source": [
    "print(students)"
   ]
  },
  {
   "cell_type": "code",
   "execution_count": 80,
   "id": "8baa3c15",
   "metadata": {},
   "outputs": [],
   "source": [
    "students.insert(2,\"anirudh\")\n"
   ]
  },
  {
   "cell_type": "code",
   "execution_count": 81,
   "id": "dc8d4be8",
   "metadata": {},
   "outputs": [
    {
     "name": "stdout",
     "output_type": "stream",
     "text": [
      "['ramsh', 'hari', 'anirudh', 'srinu', 'yeshwanth']\n"
     ]
    }
   ],
   "source": [
    "print(students)"
   ]
  },
  {
   "cell_type": "code",
   "execution_count": 75,
   "id": "b71bc3db",
   "metadata": {},
   "outputs": [],
   "source": [
    "#now we will modify hari to srinu "
   ]
  },
  {
   "cell_type": "code",
   "execution_count": 83,
   "id": "50ebaf07",
   "metadata": {},
   "outputs": [],
   "source": [
    "students[1]=\"yash\""
   ]
  },
  {
   "cell_type": "code",
   "execution_count": 84,
   "id": "7f58d118",
   "metadata": {},
   "outputs": [
    {
     "name": "stdout",
     "output_type": "stream",
     "text": [
      "['ramsh', 'yash', 'anirudh', 'srinu', 'yeshwanth']\n"
     ]
    }
   ],
   "source": [
    "print(students)"
   ]
  },
  {
   "cell_type": "code",
   "execution_count": 87,
   "id": "235b5b20",
   "metadata": {},
   "outputs": [],
   "source": [
    "students.append('hari')"
   ]
  },
  {
   "cell_type": "code",
   "execution_count": 88,
   "id": "2eb6354f",
   "metadata": {},
   "outputs": [
    {
     "name": "stdout",
     "output_type": "stream",
     "text": [
      "['ramsh', 'yash', 'anirudh', 'srinu', 'yeshwanth', 'hari']\n"
     ]
    }
   ],
   "source": [
    "print(students)"
   ]
  },
  {
   "cell_type": "code",
   "execution_count": 89,
   "id": "1cd75f52",
   "metadata": {},
   "outputs": [],
   "source": [
    "students.append('balaji')"
   ]
  },
  {
   "cell_type": "code",
   "execution_count": 90,
   "id": "b19c5c95",
   "metadata": {},
   "outputs": [
    {
     "name": "stdout",
     "output_type": "stream",
     "text": [
      "['ramsh', 'yash', 'anirudh', 'srinu', 'yeshwanth', 'hari', 'balaji']\n"
     ]
    }
   ],
   "source": [
    "print(students)"
   ]
  },
  {
   "cell_type": "code",
   "execution_count": 91,
   "id": "ca785124",
   "metadata": {},
   "outputs": [],
   "source": [
    "# deliting the elements from the list \n",
    "# we use key word del to delete \n",
    "# syntax = del variable_name[index number]\n",
    "#         ex: del students[0]"
   ]
  },
  {
   "cell_type": "code",
   "execution_count": 92,
   "id": "e535c622",
   "metadata": {},
   "outputs": [],
   "source": [
    "del students[6]"
   ]
  },
  {
   "cell_type": "code",
   "execution_count": 94,
   "id": "e20f3898",
   "metadata": {},
   "outputs": [
    {
     "name": "stdout",
     "output_type": "stream",
     "text": [
      "['ramsh', 'yash', 'anirudh', 'srinu', 'yeshwanth', 'hari']\n"
     ]
    }
   ],
   "source": [
    "print(students)"
   ]
  },
  {
   "cell_type": "code",
   "execution_count": 95,
   "id": "433bc339",
   "metadata": {},
   "outputs": [
    {
     "data": {
      "text/plain": [
       "list"
      ]
     },
     "execution_count": 95,
     "metadata": {},
     "output_type": "execute_result"
    }
   ],
   "source": [
    "type(students)"
   ]
  },
  {
   "cell_type": "code",
   "execution_count": null,
   "id": "3e05695b",
   "metadata": {},
   "outputs": [],
   "source": []
  }
 ],
 "metadata": {
  "kernelspec": {
   "display_name": "Python 3 (ipykernel)",
   "language": "python",
   "name": "python3"
  },
  "language_info": {
   "codemirror_mode": {
    "name": "ipython",
    "version": 3
   },
   "file_extension": ".py",
   "mimetype": "text/x-python",
   "name": "python",
   "nbconvert_exporter": "python",
   "pygments_lexer": "ipython3",
   "version": "3.9.13"
  }
 },
 "nbformat": 4,
 "nbformat_minor": 5
}
